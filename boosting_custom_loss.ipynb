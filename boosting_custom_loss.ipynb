{
 "cells": [
  {
   "cell_type": "code",
   "execution_count": 18,
   "metadata": {
    "collapsed": false
   },
   "outputs": [
    {
     "name": "stdout",
     "output_type": "stream",
     "text": [
      "Populating the interactive namespace from numpy and matplotlib\n",
      "The autoreload extension is already loaded. To reload it, use:\n",
      "  %reload_ext autoreload\n"
     ]
    },
    {
     "name": "stderr",
     "output_type": "stream",
     "text": [
      "/Users/Denis/anaconda/envs/python3/lib/python3.5/site-packages/IPython/core/magics/pylab.py:161: UserWarning: pylab import has clobbered these variables: ['test']\n",
      "`%matplotlib` prevents importing * from pylab and numpy\n",
      "  \"\\n`%matplotlib` prevents importing * from pylab and numpy\"\n"
     ]
    }
   ],
   "source": [
    "import pandas as pd\n",
    "import numpy as np\n",
    "import lightgbm as lgb\n",
    "import xgboost as xgb\n",
    "\n",
    "from sklearn.datasets import make_regression, make_classification\n",
    "from sklearn.model_selection import train_test_split, StratifiedKFold\n",
    "from sklearn.metrics import log_loss\n",
    "\n",
    "%pylab inline\n",
    "%load_ext autoreload\n",
    "%autoreload 2"
   ]
  },
  {
   "cell_type": "code",
   "execution_count": 19,
   "metadata": {
    "collapsed": false,
    "scrolled": true
   },
   "outputs": [],
   "source": [
    "data, y = make_regression(\n",
    "    n_samples=10000, n_features=10, n_informative=5, noise=20)\n",
    "data = pd.DataFrame(data=data, columns=['f'+str(i+1) for i in range(data.shape[1])])\n",
    "# Make data positive, add some non-linearity and 5% of outliers.\n",
    "y = (y + abs(y.min())) ** 2\n",
    "y[np.random.choice(range(len(y)), int(len(y)*0.05))] += y.max()\n",
    "y /= 1000\n",
    "\n",
    "features = [c for c in data.columns]\n",
    "train, test, ytrain, ytest = train_test_split(data[features], y, test_size=0.25)\n",
    "dtrain = lgb.Dataset(train, ytrain)\n",
    "dtest = lgb.Dataset(test, ytest)"
   ]
  },
  {
   "cell_type": "code",
   "execution_count": 20,
   "metadata": {
    "collapsed": false,
    "scrolled": true
   },
   "outputs": [
    {
     "data": {
      "text/html": [
       "<div>\n",
       "<style scoped>\n",
       "    .dataframe tbody tr th:only-of-type {\n",
       "        vertical-align: middle;\n",
       "    }\n",
       "\n",
       "    .dataframe tbody tr th {\n",
       "        vertical-align: top;\n",
       "    }\n",
       "\n",
       "    .dataframe thead th {\n",
       "        text-align: right;\n",
       "    }\n",
       "</style>\n",
       "<table border=\"1\" class=\"dataframe\">\n",
       "  <thead>\n",
       "    <tr style=\"text-align: right;\">\n",
       "      <th></th>\n",
       "      <th>f1</th>\n",
       "      <th>f2</th>\n",
       "      <th>f3</th>\n",
       "      <th>f4</th>\n",
       "      <th>f5</th>\n",
       "      <th>f6</th>\n",
       "      <th>f7</th>\n",
       "      <th>f8</th>\n",
       "      <th>f9</th>\n",
       "      <th>f10</th>\n",
       "    </tr>\n",
       "  </thead>\n",
       "  <tbody>\n",
       "    <tr>\n",
       "      <th>0</th>\n",
       "      <td>0.252681</td>\n",
       "      <td>1.238967</td>\n",
       "      <td>0.675342</td>\n",
       "      <td>-0.333023</td>\n",
       "      <td>-1.330676</td>\n",
       "      <td>-1.594308</td>\n",
       "      <td>-1.614512</td>\n",
       "      <td>-2.155325</td>\n",
       "      <td>-0.577681</td>\n",
       "      <td>-0.567386</td>\n",
       "    </tr>\n",
       "    <tr>\n",
       "      <th>1</th>\n",
       "      <td>1.261571</td>\n",
       "      <td>-1.826121</td>\n",
       "      <td>-1.199831</td>\n",
       "      <td>-0.043429</td>\n",
       "      <td>-0.260731</td>\n",
       "      <td>-0.277614</td>\n",
       "      <td>-0.221847</td>\n",
       "      <td>-0.310106</td>\n",
       "      <td>-1.321985</td>\n",
       "      <td>0.092220</td>\n",
       "    </tr>\n",
       "    <tr>\n",
       "      <th>2</th>\n",
       "      <td>1.807328</td>\n",
       "      <td>-0.331488</td>\n",
       "      <td>1.819861</td>\n",
       "      <td>-1.793959</td>\n",
       "      <td>-0.356532</td>\n",
       "      <td>-1.564845</td>\n",
       "      <td>0.237167</td>\n",
       "      <td>1.055913</td>\n",
       "      <td>-1.095504</td>\n",
       "      <td>-1.314248</td>\n",
       "    </tr>\n",
       "    <tr>\n",
       "      <th>3</th>\n",
       "      <td>0.516442</td>\n",
       "      <td>1.348497</td>\n",
       "      <td>0.982388</td>\n",
       "      <td>-2.660806</td>\n",
       "      <td>-0.917717</td>\n",
       "      <td>0.816800</td>\n",
       "      <td>-0.716238</td>\n",
       "      <td>0.613369</td>\n",
       "      <td>0.085136</td>\n",
       "      <td>0.433562</td>\n",
       "    </tr>\n",
       "    <tr>\n",
       "      <th>4</th>\n",
       "      <td>0.083718</td>\n",
       "      <td>0.028162</td>\n",
       "      <td>1.519502</td>\n",
       "      <td>0.536281</td>\n",
       "      <td>1.049106</td>\n",
       "      <td>0.238885</td>\n",
       "      <td>0.656248</td>\n",
       "      <td>-0.135282</td>\n",
       "      <td>0.890762</td>\n",
       "      <td>-0.057526</td>\n",
       "    </tr>\n",
       "  </tbody>\n",
       "</table>\n",
       "</div>"
      ],
      "text/plain": [
       "         f1        f2        f3        f4        f5        f6        f7  \\\n",
       "0  0.252681  1.238967  0.675342 -0.333023 -1.330676 -1.594308 -1.614512   \n",
       "1  1.261571 -1.826121 -1.199831 -0.043429 -0.260731 -0.277614 -0.221847   \n",
       "2  1.807328 -0.331488  1.819861 -1.793959 -0.356532 -1.564845  0.237167   \n",
       "3  0.516442  1.348497  0.982388 -2.660806 -0.917717  0.816800 -0.716238   \n",
       "4  0.083718  0.028162  1.519502  0.536281  1.049106  0.238885  0.656248   \n",
       "\n",
       "         f8        f9       f10  \n",
       "0 -2.155325 -0.577681 -0.567386  \n",
       "1 -0.310106 -1.321985  0.092220  \n",
       "2  1.055913 -1.095504 -1.314248  \n",
       "3  0.613369  0.085136  0.433562  \n",
       "4 -0.135282  0.890762 -0.057526  "
      ]
     },
     "execution_count": 20,
     "metadata": {},
     "output_type": "execute_result"
    }
   ],
   "source": [
    "data.head()"
   ]
  },
  {
   "cell_type": "markdown",
   "metadata": {},
   "source": [
    "## Custom metric"
   ]
  },
  {
   "cell_type": "code",
   "execution_count": 131,
   "metadata": {
    "collapsed": false
   },
   "outputs": [
    {
     "name": "stdout",
     "output_type": "stream",
     "text": [
      "Training until validation scores don't improve for 10 rounds.\n",
      "Early stopping, best iteration is:\n",
      "[64]\tvalid_0's l2: 2047.49\n",
      "Training until validation scores don't improve for 10 rounds.\n",
      "Early stopping, best iteration is:\n",
      "[64]\tvalid_0's custom mse: 2047.49\n"
     ]
    }
   ],
   "source": [
    "def mse_metric(preds, dtrain):\n",
    "    labels = dtrain.get_label()\n",
    "    x = (preds - labels) ** 2\n",
    "    # name, value, is_higher_better\n",
    "    return 'custom mse', np.mean(x), False\n",
    "\n",
    "params = {\n",
    "    'boosting_type': 'gbdt',\n",
    "    'objective': 'mse',\n",
    "    'metric' : 'mse',\n",
    "    'learning_rate': 0.05,\n",
    "}\n",
    "\n",
    "gbm = lgb.train(params,\n",
    "                dtrain,\n",
    "                num_boost_round=1000,\n",
    "                valid_sets=[dtest],\n",
    "                verbose_eval=10000,\n",
    "                early_stopping_rounds=10)\n",
    "params = {\n",
    "    'boosting_type': 'gbdt',\n",
    "    'objective': 'mse',\n",
    "    'learning_rate': 0.05,\n",
    "}\n",
    "gbm = lgb.train(params,\n",
    "                dtrain,\n",
    "                num_boost_round=1000,\n",
    "                valid_sets=[dtest],\n",
    "                verbose_eval=10000,\n",
    "                feval=mse_metric,\n",
    "                early_stopping_rounds=10)"
   ]
  },
  {
   "cell_type": "code",
   "execution_count": null,
   "metadata": {
    "collapsed": false
   },
   "outputs": [],
   "source": []
  },
  {
   "cell_type": "code",
   "execution_count": null,
   "metadata": {
    "collapsed": false
   },
   "outputs": [],
   "source": []
  },
  {
   "cell_type": "code",
   "execution_count": null,
   "metadata": {
    "collapsed": true
   },
   "outputs": [],
   "source": []
  },
  {
   "cell_type": "code",
   "execution_count": 132,
   "metadata": {
    "collapsed": false
   },
   "outputs": [
    {
     "name": "stdout",
     "output_type": "stream",
     "text": [
      "Training until validation scores don't improve for 10 rounds.\n",
      "Early stopping, best iteration is:\n",
      "[64]\tvalid_0's l2: 2047.49\n",
      "Training until validation scores don't improve for 10 rounds.\n",
      "Early stopping, best iteration is:\n",
      "[64]\tvalid_0's l2: 2047.57\n"
     ]
    }
   ],
   "source": [
    "params = {\n",
    "    'boosting_type': 'gbdt',\n",
    "    'objective': 'mse',\n",
    "    'metric' : 'mse',\n",
    "    'learning_rate': 0.05,\n",
    "}\n",
    "\n",
    "def custom_mse(preds, dtrain):\n",
    "    labels = dtrain.get_label()\n",
    "    x = (preds - labels)\n",
    "    grad = 2 * x\n",
    "    hess = 2 * np.ones(x.shape)\n",
    "    return grad, hess\n",
    "\n",
    "gbm = lgb.train(params,\n",
    "                dtrain,\n",
    "                num_boost_round=1000,\n",
    "                valid_sets=[dtest],\n",
    "                verbose_eval=10000,\n",
    "                #fobj=custom_mse,\n",
    "                early_stopping_rounds=10)\n",
    "params = {\n",
    "    'boosting_type': 'gbdt',\n",
    "    'metric' : 'mse',\n",
    "    'learning_rate': 0.05,\n",
    "}\n",
    "gbm = lgb.train(params,\n",
    "                dtrain,\n",
    "                num_boost_round=1000,\n",
    "                valid_sets=[dtest],\n",
    "                verbose_eval=10000,\n",
    "                fobj=custom_mse,\n",
    "                early_stopping_rounds=10)"
   ]
  },
  {
   "cell_type": "code",
   "execution_count": null,
   "metadata": {
    "collapsed": false
   },
   "outputs": [],
   "source": []
  },
  {
   "cell_type": "code",
   "execution_count": 134,
   "metadata": {
    "collapsed": false
   },
   "outputs": [
    {
     "name": "stdout",
     "output_type": "stream",
     "text": [
      "Training until validation scores don't improve for 10 rounds.\n",
      "Early stopping, best iteration is:\n",
      "[19]\tvalid_0's l1: 18.491\n",
      "Training until validation scores don't improve for 10 rounds.\n",
      "Early stopping, best iteration is:\n",
      "[22]\tvalid_0's l1: 17.8907\n"
     ]
    }
   ],
   "source": [
    "params = {\n",
    "    'boosting_type': 'gbdt',\n",
    "    'objective': 'mae',\n",
    "    'metric' : 'mae',\n",
    "    'learning_rate': 0.05,\n",
    "}\n",
    "\n",
    "def custom_mae(preds, dtrain):\n",
    "    labels = dtrain.get_label()\n",
    "    x = (preds - labels)\n",
    "    grad = sign(x) \n",
    "    hess = 1e-2 * np.ones(x.shape[0])\n",
    "    return grad, hess\n",
    "\n",
    "gbm = lgb.train(params,\n",
    "                dtrain,\n",
    "                num_boost_round=1000,\n",
    "                valid_sets=[dtest],\n",
    "                verbose_eval=10000,\n",
    "                early_stopping_rounds=10)\n",
    "\n",
    "gbm = lgb.train(params,\n",
    "                dtrain,\n",
    "                num_boost_round=10000,\n",
    "                valid_sets=[dtest],\n",
    "                verbose_eval=100000,\n",
    "                fobj=custom_mae,\n",
    "                early_stopping_rounds=10)"
   ]
  },
  {
   "cell_type": "code",
   "execution_count": null,
   "metadata": {
    "collapsed": false
   },
   "outputs": [],
   "source": []
  },
  {
   "cell_type": "code",
   "execution_count": 135,
   "metadata": {
    "collapsed": false
   },
   "outputs": [
    {
     "name": "stdout",
     "output_type": "stream",
     "text": [
      "Training until validation scores don't improve for 10 rounds.\n",
      "Early stopping, best iteration is:\n",
      "[263]\tvalid_0's l1: 22.4775\n",
      "Training until validation scores don't improve for 10 rounds.\n",
      "Early stopping, best iteration is:\n",
      "[224]\tvalid_0's l1: 22.1971\n"
     ]
    }
   ],
   "source": [
    "def custom_fair_obj(preds, dtrain):\n",
    "    labels = dtrain.get_label()\n",
    "    x = (preds - labels)\n",
    "    \n",
    "    C = 1\n",
    "    cnst = abs(x) + C\n",
    "    grad = C*x / (cnst)\n",
    "    hess = (C/cnst) ** 2 \n",
    "    return grad, hess\n",
    "\n",
    "params = {\n",
    "    'boosting_type': 'gbdt',\n",
    "    'objective': 'fair',\n",
    "    'metric' : 'mae',\n",
    "    'learning_rate': 0.05,\n",
    "}\n",
    "\n",
    "\n",
    "gbm = lgb.train(params,\n",
    "                dtrain,\n",
    "                num_boost_round=1000,\n",
    "                valid_sets=[dtest],\n",
    "                verbose_eval=10000,\n",
    "                early_stopping_rounds=10)\n",
    "\n",
    "gbm = lgb.train(params,\n",
    "                dtrain,\n",
    "                num_boost_round=10000,\n",
    "                valid_sets=[dtest],\n",
    "                verbose_eval=100000,\n",
    "                fobj=custom_fair,\n",
    "                early_stopping_rounds=10)"
   ]
  },
  {
   "cell_type": "code",
   "execution_count": null,
   "metadata": {
    "collapsed": true
   },
   "outputs": [],
   "source": []
  },
  {
   "cell_type": "code",
   "execution_count": null,
   "metadata": {
    "collapsed": true
   },
   "outputs": [],
   "source": []
  },
  {
   "cell_type": "code",
   "execution_count": 140,
   "metadata": {
    "collapsed": false,
    "scrolled": true
   },
   "outputs": [],
   "source": []
  },
  {
   "cell_type": "markdown",
   "metadata": {},
   "source": [
    "## Xgboost"
   ]
  },
  {
   "cell_type": "code",
   "execution_count": null,
   "metadata": {
    "collapsed": true
   },
   "outputs": [],
   "source": [
    "dtrain = xgb.DMatrix(train, ytrain)\n",
    "dtest = xgb.DMatrix(test, ytest)\n",
    "watchlist = [(dtest, 'eval')]"
   ]
  },
  {
   "cell_type": "code",
   "execution_count": 180,
   "metadata": {
    "collapsed": false,
    "scrolled": false
   },
   "outputs": [
    {
     "name": "stdout",
     "output_type": "stream",
     "text": [
      "[0]\teval-rmse:80.0009\n",
      "Will train until eval-rmse hasn't improved in 10 rounds.\n",
      "Stopping. Best iteration:\n",
      "[62]\teval-rmse:45.5281\n",
      "\n",
      "[0]\teval-rmse:79.9756\n",
      "Will train until eval-rmse hasn't improved in 10 rounds.\n",
      "Stopping. Best iteration:\n",
      "[63]\teval-rmse:45.6327\n",
      "\n"
     ]
    }
   ],
   "source": [
    "params = {\n",
    "    'objective': 'reg:linear',\n",
    "    'eval_metric': 'rmse', \n",
    "    'booster': 'gbtree',\n",
    "    'tree_method':'hist',\n",
    "    'learning_rate': 0.05\n",
    "}\n",
    "\n",
    "def custom_mse(preds, dtrain):\n",
    "    labels = dtrain.get_label()\n",
    "    x = (preds - labels)\n",
    "    grad = 2 * x\n",
    "    hess = 2 * np.ones(x.shape)\n",
    "    return grad, hess\n",
    "\n",
    "gbm = xgb.train(params,\n",
    "                dtrain,\n",
    "                num_boost_round=1000,\n",
    "                evals=watchlist,\n",
    "                verbose_eval=1000,\n",
    "                early_stopping_rounds=10\n",
    "               )\n",
    "\n",
    "gbm = xgb.train(params,\n",
    "                dtrain,\n",
    "                num_boost_round=1000,\n",
    "                evals=watchlist,\n",
    "                verbose_eval=1000,\n",
    "                obj=custom_mse,\n",
    "                early_stopping_rounds=10\n",
    "               )"
   ]
  },
  {
   "cell_type": "code",
   "execution_count": 182,
   "metadata": {
    "collapsed": false
   },
   "outputs": [
    {
     "name": "stdout",
     "output_type": "stream",
     "text": [
      "[0]\teval-rmse:79.9756\n",
      "Will train until eval-rmse hasn't improved in 10 rounds.\n",
      "Stopping. Best iteration:\n",
      "[63]\teval-rmse:45.6327\n",
      "\n",
      "[0]\teval-rmse:79.9756\teval-custom-mse:61.3932\n",
      "Multiple eval metrics have been passed: 'eval-custom-mse' will be used for early stopping.\n",
      "\n",
      "Will train until eval-custom-mse hasn't improved in 10 rounds.\n",
      "Stopping. Best iteration:\n",
      "[38]\teval-rmse:46.3581\teval-custom-mse:19.7688\n",
      "\n"
     ]
    }
   ],
   "source": [
    "def mse_metric(preds, dtrain):\n",
    "    labels = dtrain.get_label()\n",
    "    x = (preds - labels) ** 2\n",
    "    # name, value, is_higher_better\n",
    "    return 'custom-mse', np.mean(np.sqrt(x))\n",
    "\n",
    "\n",
    "gbm = xgb.train(params,\n",
    "                dtrain,\n",
    "                num_boost_round=1000,\n",
    "                evals=watchlist,\n",
    "                verbose_eval=1000,\n",
    "                obj=custom_mse,\n",
    "                early_stopping_rounds=10\n",
    "               )\n",
    "\n",
    "gbm = xgb.train(params,\n",
    "                dtrain,\n",
    "                num_boost_round=1000,\n",
    "                evals=watchlist,\n",
    "                verbose_eval=1000,\n",
    "                obj=custom_mse,\n",
    "                feval=mse_metric,\n",
    "                early_stopping_rounds=10\n",
    "               )"
   ]
  },
  {
   "cell_type": "code",
   "execution_count": 174,
   "metadata": {
    "collapsed": true
   },
   "outputs": [],
   "source": [
    "?xgb.train"
   ]
  },
  {
   "cell_type": "code",
   "execution_count": null,
   "metadata": {
    "collapsed": true
   },
   "outputs": [],
   "source": []
  },
  {
   "cell_type": "code",
   "execution_count": 170,
   "metadata": {
    "collapsed": false
   },
   "outputs": [
    {
     "name": "stdout",
     "output_type": "stream",
     "text": [
      "[0]\ttrain-mae:32.5997\teval-mae:31.5914\n",
      "Multiple eval metrics have been passed: 'eval-mae' will be used for early stopping.\n",
      "\n",
      "Will train until eval-mae hasn't improved in 10 rounds.\n",
      "Stopping. Best iteration:\n",
      "[215]\ttrain-mae:15.7283\teval-mae:17.5504\n",
      "\n"
     ]
    }
   ],
   "source": [
    "params = {\n",
    "    'objective': 'reg:linear',\n",
    "    'eval_metric': 'mae', \n",
    "    'booster': 'gbtree',\n",
    "    'tree_method':'hist',\n",
    "    'learning_rate': 0.05\n",
    "}\n",
    "\n",
    "gbm = xgb.train(params,\n",
    "                dtrain,\n",
    "                num_boost_round=1000,\n",
    "                evals=watchlist,\n",
    "                verbose_eval=1000,\n",
    "                early_stopping_rounds=10\n",
    "               )\n",
    "\n",
    "gbm = xgb.train(params,\n",
    "                dtrain,\n",
    "                num_boost_round=1000,\n",
    "                evals=watchlist,\n",
    "                verbose_eval=1000,\n",
    "                obj=custom_mae,\n",
    "                early_stopping_rounds=10\n",
    "               )\n",
    "\n",
    "gbm = xgb.train(params,\n",
    "                dtrain,\n",
    "                num_boost_round=1000,\n",
    "                evals=watchlist,\n",
    "                verbose_eval=1000,\n",
    "                obj=custom_fair_obj,\n",
    "                early_stopping_rounds=10\n",
    "               )"
   ]
  },
  {
   "cell_type": "code",
   "execution_count": null,
   "metadata": {
    "collapsed": true
   },
   "outputs": [],
   "source": []
  },
  {
   "cell_type": "code",
   "execution_count": null,
   "metadata": {
    "collapsed": true
   },
   "outputs": [],
   "source": []
  },
  {
   "cell_type": "code",
   "execution_count": null,
   "metadata": {
    "collapsed": true
   },
   "outputs": [],
   "source": []
  },
  {
   "cell_type": "code",
   "execution_count": null,
   "metadata": {
    "collapsed": true
   },
   "outputs": [],
   "source": []
  },
  {
   "cell_type": "code",
   "execution_count": null,
   "metadata": {
    "collapsed": false
   },
   "outputs": [],
   "source": []
  },
  {
   "cell_type": "code",
   "execution_count": 59,
   "metadata": {
    "collapsed": false
   },
   "outputs": [],
   "source": [
    "# obj mse, eval mae: 30.103 lr 0.1\n",
    "# obj mae, eval mae: 30.723 lr 0.01\n",
    "# obj fair with hess, eval mae: 31.1662 lr 0.01\n",
    "\n",
    "# after altering y:\n",
    "# fair lr 0.1 : eval 1815\n",
    "# fair lr 0.1 : eval 1788, constant hessian 1e-4\n",
    "\n",
    "# mse lr 0.1 : eval 1975\n",
    "# mae lr 0.01 : eval 1730 43sec per 1000 trees"
   ]
  },
  {
   "cell_type": "code",
   "execution_count": 279,
   "metadata": {
    "collapsed": false
   },
   "outputs": [
    {
     "name": "stdout",
     "output_type": "stream",
     "text": [
      "hess is 1e-4\n",
      "Training until validation scores don't improve for 100 rounds.\n",
      "Early stopping, best iteration is:\n",
      "[1333]\ttraining's l1: 1525.46\tvalid_1's l1: 1788.51\n",
      "hess is true\n",
      "Training until validation scores don't improve for 100 rounds.\n",
      "Early stopping, best iteration is:\n",
      "[2308]\ttraining's l1: 1533.21\tvalid_1's l1: 1813.85\n",
      "hess is 1e-4, LR 0.01\n",
      "Training until validation scores don't improve for 100 rounds.\n",
      "Early stopping, best iteration is:\n",
      "[4678]\ttraining's l1: 1454.62\tvalid_1's l1: 1735.3\n",
      "hess is true, LR 0.01\n",
      "Training until validation scores don't improve for 100 rounds.\n",
      "Early stopping, best iteration is:\n",
      "[1575]\ttraining's l1: 1546.52\tvalid_1's l1: 1812.05\n",
      "CPU times: user 25min 31s, sys: 2min 22s, total: 27min 54s\n",
      "Wall time: 6min 10s\n"
     ]
    }
   ],
   "source": [
    "%%time\n",
    "\n",
    "params = {\n",
    "    'boosting_type': 'gbdt',\n",
    "    #'objective': 'mae',\n",
    "    'metric' : 'mae',\n",
    "    'num_leaves': 16,\n",
    "    'learning_rate': 0.1,\n",
    "}\n",
    "\n",
    "print ('hess is 1e-4')\n",
    "def custom_fair(preds, dtrain):\n",
    "    labels = dtrain.get_label()\n",
    "    x = (preds - labels)\n",
    "    \n",
    "    C = 1\n",
    "    cnst = abs(x) + C\n",
    "    grad = C*x / (cnst)\n",
    "    hess = 1e-4*np.ones(x.shape[0])\n",
    "    return grad, hess\n",
    "\n",
    "gbm = lgb.train(params,\n",
    "                dtrain,\n",
    "                num_boost_round=10000,\n",
    "                valid_sets=[dtrain, dval],\n",
    "                verbose_eval=10000,\n",
    "                fobj=custom_fair,\n",
    "                early_stopping_rounds=100)\n",
    "\n",
    "print ('hess is true')\n",
    "def custom_fair(preds, dtrain):\n",
    "    labels = dtrain.get_label()\n",
    "    x = (preds - labels)\n",
    "    \n",
    "    C = 1\n",
    "    cnst = abs(x) + C\n",
    "    grad = C*x / (cnst)\n",
    "    hess = (C/cnst) ** 2\n",
    "    return grad, hess\n",
    "\n",
    "gbm = lgb.train(params,\n",
    "                dtrain,\n",
    "                num_boost_round=10000,\n",
    "                valid_sets=[dtrain, dval],\n",
    "                verbose_eval=10000,\n",
    "                fobj=custom_fair,\n",
    "                early_stopping_rounds=100)\n",
    "\n",
    "\n",
    "params = {\n",
    "    'boosting_type': 'gbdt',\n",
    "    #'objective': 'mae',\n",
    "    'metric' : 'mae',\n",
    "    'num_leaves': 16,\n",
    "    'learning_rate': 0.01,\n",
    "}\n",
    "\n",
    "print ('hess is 1e-4, LR 0.01')\n",
    "def custom_fair(preds, dtrain):\n",
    "    labels = dtrain.get_label()\n",
    "    x = (preds - labels)\n",
    "    \n",
    "    C = 1\n",
    "    cnst = abs(x) + C\n",
    "    grad = C*x / (cnst)\n",
    "    hess = 1e-4*np.ones(x.shape[0])\n",
    "    return grad, hess\n",
    "\n",
    "gbm = lgb.train(params,\n",
    "                dtrain,\n",
    "                num_boost_round=10000,\n",
    "                valid_sets=[dtrain, dval],\n",
    "                verbose_eval=10000,\n",
    "                fobj=custom_fair,\n",
    "                early_stopping_rounds=100)\n",
    "\n",
    "print ('hess is true, LR 0.01')\n",
    "def custom_fair(preds, dtrain):\n",
    "    labels = dtrain.get_label()\n",
    "    x = (preds - labels)\n",
    "    \n",
    "    C = 1\n",
    "    cnst = abs(x) + C\n",
    "    grad = C*x / (cnst)\n",
    "    hess = (C/cnst) ** 2\n",
    "    return grad, hess\n",
    "\n",
    "gbm = lgb.train(params,\n",
    "                dtrain,\n",
    "                num_boost_round=10000,\n",
    "                valid_sets=[dtrain, dval],\n",
    "                verbose_eval=10000,\n",
    "                fobj=custom_fair,\n",
    "                early_stopping_rounds=100)"
   ]
  },
  {
   "cell_type": "code",
   "execution_count": 337,
   "metadata": {
    "collapsed": false
   },
   "outputs": [
    {
     "name": "stdout",
     "output_type": "stream",
     "text": [
      "hess is true\n",
      "Training until validation scores don't improve for 100 rounds.\n",
      "[10000]\ttraining's l1: 1900.74\tvalid_1's l1: 2151.8\n"
     ]
    }
   ],
   "source": []
  },
  {
   "cell_type": "code",
   "execution_count": 336,
   "metadata": {
    "collapsed": false
   },
   "outputs": [
    {
     "data": {
      "image/png": "[encoded data removed]",
      "text/plain": [
       "<matplotlib.figure.Figure at 0x121cc2b38>"
      ]
     },
     "metadata": {},
     "output_type": "display_data"
    }
   ],
   "source": [
    "def fair_obj(x, C):\n",
    "    loss = C*C * ( abs(x)/C - np.log(1 + abs(x)/C) )\n",
    "    \n",
    "    grad = C*x / (abs(x) + C)\n",
    "    #hess = np.sqrt( (C/(abs(x) + C)) ** 2)\n",
    "    hess = (C / (abs(x) + C) ) ** 2\n",
    "    return loss, grad, hess\n",
    "\n",
    "xs = np.arange(-20, 20, 0.01)\n",
    "loss, grad, hess = fair_obj(xs, 1)\n",
    "\n",
    "plt.figure(figsize=(15,11))\n",
    "plt.subplot(2,1,1)\n",
    "plt.plot(xs, loss, label='fair loss', c='green')\n",
    "plt.plot(xs, abs(xs), label='mae loss', c='black')\n",
    "plt.legend()\n",
    "\n",
    "plt.subplot(2,1,2)\n",
    "plt.plot(xs, grad, label='fair grad')\n",
    "plt.plot(xs, hess, label='fair hess')\n",
    "plt.plot(xs, np.sqrt(np.sqrt(hess)), label='fair root hess')\n",
    "\n",
    "\n",
    "plt.legend()\n",
    "plt.show()"
   ]
  },
  {
   "cell_type": "code",
   "execution_count": null,
   "metadata": {
    "collapsed": true
   },
   "outputs": [],
   "source": []
  },
  {
   "cell_type": "code",
   "execution_count": null,
   "metadata": {
    "collapsed": true
   },
   "outputs": [],
   "source": []
  },
  {
   "cell_type": "code",
   "execution_count": null,
   "metadata": {
    "collapsed": true
   },
   "outputs": [],
   "source": []
  }
 ],
 "metadata": {
  "kernelspec": {
   "display_name": "Python 3",
   "language": "python",
   "name": "python3"
  },
  "language_info": {
   "codemirror_mode": {
    "name": "ipython",
    "version": 3
   },
   "file_extension": ".py",
   "mimetype": "text/x-python",
   "name": "python",
   "nbconvert_exporter": "python",
   "pygments_lexer": "ipython3",
   "version": "3.5.2"
  }
 },
 "nbformat": 4,
 "nbformat_minor": 0
}
