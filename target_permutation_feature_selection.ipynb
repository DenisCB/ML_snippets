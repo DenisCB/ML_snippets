{
 "cells": [
  {
   "cell_type": "code",
   "execution_count": 1,
   "metadata": {
    "collapsed": false
   },
   "outputs": [
    {
     "name": "stdout",
     "output_type": "stream",
     "text": [
      "Populating the interactive namespace from numpy and matplotlib\n"
     ]
    }
   ],
   "source": [
    "import pandas as pd\n",
    "import numpy as np\n",
    "import lightgbm as lgb\n",
    "\n",
    "from sklearn.datasets import make_regression, make_classification\n",
    "from sklearn.model_selection import train_test_split, StratifiedKFold\n",
    "from sklearn.metrics import log_loss\n",
    "\n",
    "import matplotlib.pylab as plt\n",
    "import seaborn as sns\n",
    "plt.style.use('ggplot')\n",
    "plt.style.use('seaborn-poster')\n",
    "sns.set_palette('Set1', 10, desat=0.75)\n",
    "\n",
    "%pylab inline\n",
    "%load_ext autoreload\n",
    "%autoreload 2"
   ]
  },
  {
   "cell_type": "code",
   "execution_count": 2,
   "metadata": {
    "collapsed": true
   },
   "outputs": [],
   "source": [
    "data, y = make_classification(\n",
    "    n_classes=5, n_samples=5000, n_features=15, n_informative=5, n_redundant=2, flip_y=0.05)\n",
    "data = pd.DataFrame(data=data, columns=['f'+str(i+1) for i in range(data.shape[1])])\n",
    "\n",
    "features = list(data.columns)\n",
    "train, test, ytrain, ytest = train_test_split(data, y, test_size=0.25)"
   ]
  },
  {
   "cell_type": "code",
   "execution_count": 5,
   "metadata": {
    "collapsed": false
   },
   "outputs": [
    {
     "name": "stdout",
     "output_type": "stream",
     "text": [
      "Number of trees: 135\n",
      "Model's logloss on initial features: 0.719172379849\n"
     ]
    }
   ],
   "source": [
    "import lightgbm as lgb\n",
    "params = {\n",
    "    'metric': 'multi_logloss',\n",
    "    'objective': 'multiclass',\n",
    "    'learning_rate' : 0.05,\n",
    "    'num_class': len(np.unique(y))\n",
    "}\n",
    "cvmodel = lgb.cv(params, \n",
    "                 lgb.Dataset(train, ytrain),\n",
    "                 num_boost_round=10000, \n",
    "                 early_stopping_rounds=10,\n",
    "                 verbose_eval=False)\n",
    "num_rounds = len(list(cvmodel.items())[0][1])\n",
    "print('Number of trees:', num_rounds)\n",
    "\n",
    "gbm = lgb.train(\n",
    "    params,\n",
    "    lgb.Dataset(train, ytrain),\n",
    "    num_boost_round=num_rounds)\n",
    "print('Model\\'s logloss on initial features:', log_loss(ytest, gbm.predict(test)))"
   ]
  },
  {
   "cell_type": "code",
   "execution_count": 6,
   "metadata": {
    "collapsed": false,
    "scrolled": true
   },
   "outputs": [],
   "source": [
    "n_runs = 2\n",
    "f_imp_true = np.zeros(len(features)) # Feature importance for true target.\n",
    "f_imp_perm = np.zeros(len(features)) # Feature importance for permutated target.\n",
    "\n",
    "for run in range(n_runs):\n",
    "    idx = np.arange(len(train))\n",
    "    np.random.shuffle(idx)\n",
    "    ytrain_perm = ytrain[idx]\n",
    "    \n",
    "    kf = StratifiedKFold(n_splits=3, shuffle=True, random_state=n_runs+run)\n",
    "    for train_ind, test_ind in kf.split(train, ytrain):\n",
    "        \n",
    "        dtrain = lgb.Dataset(\n",
    "            train.iloc[train_ind], \n",
    "            ytrain[train_ind])\n",
    "        gbm = lgb.train(params, dtrain, num_boost_round=num_rounds)\n",
    "        f_imp_true += gbm.feature_importance('gain')\n",
    "    \n",
    "        dtrain = lgb.Dataset(\n",
    "            train.iloc[train_ind],\n",
    "            ytrain_perm[train_ind])\n",
    "        gbm = lgb.train(params, dtrain, num_boost_round=num_rounds)\n",
    "        f_imp_perm += gbm.feature_importance('gain')\n",
    "        \n",
    "f_imp_perm /= n_runs\n",
    "f_imp_true /= n_runs"
   ]
  },
  {
   "cell_type": "code",
   "execution_count": 10,
   "metadata": {
    "collapsed": false,
    "scrolled": false
   },
   "outputs": [
    {
     "name": "stdout",
     "output_type": "stream",
     "text": [
      "3.888 f4\n",
      "3.649 f6\n",
      "3.26 f11\n",
      "3.077 f1\n",
      "3.042 f14\n",
      "2.812 f5\n",
      "1.848 f10\n",
      "0.436 f7\n",
      "0.406 f3\n",
      "0.398 f8\n",
      "0.386 f12\n",
      "0.374 f15\n",
      "0.334 f2\n",
      "0.331 f9\n",
      "0.324 f13\n"
     ]
    },
    {
     "data": {
      "image/png": "[encoded data removed]",
      "text/plain": [
       "<matplotlib.figure.Figure at 0x1072c5898>"
      ]
     },
     "metadata": {},
     "output_type": "display_data"
    }
   ],
   "source": [
    "#f_imp = (f_imp_true - f_imp_perm) / (f_imp_true + f_imp_perm + 1)\n",
    "f_imp = f_imp_true / (f_imp_perm + 1e-3)\n",
    "\n",
    "for f, imp in (sorted(zip(features, f_imp), key = lambda x: x[1], reverse=True)):\n",
    "    print (round(imp,3), f)\n",
    "plt.figure(figsize=(7,3))\n",
    "plt.hist(f_imp, bins=20);"
   ]
  },
  {
   "cell_type": "code",
   "execution_count": 11,
   "metadata": {
    "collapsed": false
   },
   "outputs": [],
   "source": [
    "excluded_features = [features[i] for i in range(len(features)) if f_imp[i]<1]\n",
    "new_features = list(set(features) - set(excluded_features))"
   ]
  },
  {
   "cell_type": "code",
   "execution_count": 48,
   "metadata": {
    "collapsed": false
   },
   "outputs": [
    {
     "name": "stdout",
     "output_type": "stream",
     "text": [
      "191\n",
      "Model on selected features: 0.74022563621\n"
     ]
    }
   ],
   "source": [
    "print('Model\\'s logloss on initial features:', log_loss(ytest, gbm.predict(test)))\n",
    "\n",
    "cvmodel = lgb.cv(params, \n",
    "                 lgb.Dataset(train[new_features], ytrain),\n",
    "                 num_boost_round=10000, \n",
    "                 early_stopping_rounds=10,\n",
    "                 verbose_eval=False)\n",
    "num_rounds = len(list(cvmodel.items())[0][1])\n",
    "print (num_rounds)\n",
    "\n",
    "gbm = lgb.train(\n",
    "    params,\n",
    "    lgb.Dataset(train[new_features], ytrain),\n",
    "    num_boost_round=num_rounds)\n",
    "print('Model\\'s logloss on selected features:', log_loss(ytest, gbm.predict(test[new_features])))"
   ]
  },
  {
   "cell_type": "code",
   "execution_count": null,
   "metadata": {
    "collapsed": true
   },
   "outputs": [],
   "source": []
  }
 ],
 "metadata": {
  "kernelspec": {
   "display_name": "Python 3",
   "language": "python",
   "name": "python3"
  },
  "language_info": {
   "codemirror_mode": {
    "name": "ipython",
    "version": 3
   },
   "file_extension": ".py",
   "mimetype": "text/x-python",
   "name": "python",
   "nbconvert_exporter": "python",
   "pygments_lexer": "ipython3",
   "version": "3.5.2"
  }
 },
 "nbformat": 4,
 "nbformat_minor": 2
}
